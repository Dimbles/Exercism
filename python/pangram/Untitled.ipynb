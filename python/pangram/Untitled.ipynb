{
 "cells": [
  {
   "cell_type": "code",
   "execution_count": 4,
   "metadata": {},
   "outputs": [],
   "source": [
    "def is_pangram(sentence):\n",
    "    List = []\n",
    "    #creating a list of 26 characters with each entry false\n",
    "    for i in range(26):\n",
    "        List.append(False)\n",
    "    \n",
    "    #returning false if sentence is empty\n",
    "    if sentence == \"\":\n",
    "        return false\n",
    "    #converting the sentence to lowercase\n",
    "    for c in sentence.lower():\n",
    "        if not c == \"\" and ord(c) -ord('a') < 26 and ord(c) -ord('a') >= 0:\n",
    "            \n",
    "            #make the list index corresponding to the unicode character true\n",
    "            List[ord(c) -ord('a')] = True\n",
    "    \n",
    "    #check if any of the list indexs are still false        \n",
    "    for ch in List:\n",
    "        if ch == False:\n",
    "            return False\n",
    "        else:\n",
    "            return True\n",
    "\n"
   ]
  },
  {
   "cell_type": "code",
   "execution_count": 5,
   "metadata": {},
   "outputs": [
    {
     "name": "stdout",
     "output_type": "stream",
     "text": [
      "True\n"
     ]
    }
   ],
   "source": [
    "print(is_pangram(\"the 1 quick brown fox jumps over the 2 lazy dogs\"))"
   ]
  },
  {
   "cell_type": "code",
   "execution_count": null,
   "metadata": {},
   "outputs": [],
   "source": []
  }
 ],
 "metadata": {
  "kernelspec": {
   "display_name": "Python 3",
   "language": "python",
   "name": "python3"
  },
  "language_info": {
   "codemirror_mode": {
    "name": "ipython",
    "version": 3
   },
   "file_extension": ".py",
   "mimetype": "text/x-python",
   "name": "python",
   "nbconvert_exporter": "python",
   "pygments_lexer": "ipython3",
   "version": "3.6.6"
  }
 },
 "nbformat": 4,
 "nbformat_minor": 2
}
